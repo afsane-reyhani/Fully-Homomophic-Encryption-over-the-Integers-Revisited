{
 "cells": [
  {
   "cell_type": "code",
   "execution_count": 1,
   "metadata": {},
   "outputs": [
    {
     "name": "stdout",
     "output_type": "stream",
     "text": [
      "importing Jupyter notebook from SHE.ipynb\n"
     ]
    }
   ],
   "source": [
    "import import_ipynb\n",
    "import SHE as s"
   ]
  },
  {
   "cell_type": "markdown",
   "metadata": {},
   "source": [
    "# keygenaration"
   ]
  },
  {
   "cell_type": "code",
   "execution_count": 2,
   "metadata": {},
   "outputs": [
    {
     "name": "stdout",
     "output_type": "stream",
     "text": [
      "enter security parameter5\n",
      "λ 5\n",
      "enter positive number3\n",
      "L 3\n",
      "ρ 5\n",
      "η 9\n",
      "γ 72\n",
      "τ 84\n",
      "n 15\n",
      "σ 72\n",
      "some constant c2\n",
      "ηη 144\n",
      "ρρ 139\n",
      "γγ 293\n",
      "ττ 305\n",
      "α 1030\n",
      "Random integer from 2^(η-1) to 2^(η)\n",
      "secret key:  374\n",
      "q_0 444\n",
      "x_1 26901\n",
      "x_1x_1 13451\n",
      "x_0 165767\n",
      "x [89868, 151927, 12575, 48192, 131089, 137963, 74462, 44989, 85109, 11911, 82108, 11310, 96391, 71883, 145185, 76668, 157747, 23821, 74345, 25152, 152734, 111164, 158359, 111406, 11291, 157530, 18582, 131756, 80716, 67390, 22027, 133476, 93100, 60056, 6186, 78119, 35285, 72445, 5085, 59401, 10119, 11048, 120963, 81765, 51352, 7394, 65182, 159611, 43193, 46836, 95168, 1930, 16371, 44372, 45266, 17596, 61520, 155977, 126610, 148930, 94376, 109174, 162436, 62952, -355, 165767, 86671, 17458, 12929, 5560, 152020, 63112, 141967, 105095, 108759, 77467, 95516, 151337, 146025, 63243, 126604, 104607, 159677, 26901]\n",
      "Y [6689495 13235430 26313836 ...\n",
      " 9114318744029190402437487095978561469061978418148\n",
      " 18228637488058380804874974191957122938123956837474\n",
      " 36457274976116761609749948383914245876247913634238]\n"
     ]
    }
   ],
   "source": [
    "λ=1\n",
    "j=s.keygeneration(λ)\n",
    "λ=j[0]\n",
    "L=j[1]\n",
    "ρ=j[2]\n",
    "η=j[3]\n",
    "γ=j[4]\n",
    "τ=j[5]\n",
    "n=j[6]\n",
    "σ=j[7]\n",
    "c=j[8]\n",
    "ηη=j[9]\n",
    "ρρ=j[10]\n",
    "γγ=j[11]\n",
    "ττ=j[12]\n",
    "α=j[13]\n",
    "x_0=j[14]\n",
    "x_1=j[15]\n",
    "x=j[16]\n",
    "q_0=j[17]\n",
    "p=j[18]\n",
    "X=j[19]\n",
    "x_1x_1=j[20]\n",
    "Y=j[21]"
   ]
  },
  {
   "cell_type": "markdown",
   "metadata": {},
   "source": [
    "# plaintext"
   ]
  },
  {
   "cell_type": "code",
   "execution_count": 3,
   "metadata": {},
   "outputs": [
    {
     "name": "stdout",
     "output_type": "stream",
     "text": [
      "Enter number of elements : 2\n",
      "plaintext [0 0]\n"
     ]
    }
   ],
   "source": [
    "nn=1\n",
    "m=s.plaintext(nn)"
   ]
  },
  {
   "cell_type": "markdown",
   "metadata": {},
   "source": [
    "# encryption"
   ]
  },
  {
   "cell_type": "code",
   "execution_count": 4,
   "metadata": {},
   "outputs": [
    {
     "name": "stdout",
     "output_type": "stream",
     "text": [
      "ciphertext [63845, 1121]\n"
     ]
    }
   ],
   "source": [
    "c=s.enc(m,x,x_0,x_1,τ,x_1x_1)"
   ]
  },
  {
   "cell_type": "markdown",
   "metadata": {},
   "source": [
    "# decryption"
   ]
  },
  {
   "cell_type": "code",
   "execution_count": 5,
   "metadata": {},
   "outputs": [
    {
     "name": "stdout",
     "output_type": "stream",
     "text": [
      "decription [1, 0]\n"
     ]
    }
   ],
   "source": [
    "d=s.dec(c,p)"
   ]
  },
  {
   "cell_type": "markdown",
   "metadata": {},
   "source": [
    "# error decryption"
   ]
  },
  {
   "cell_type": "code",
   "execution_count": 6,
   "metadata": {},
   "outputs": [
    {
     "name": "stdout",
     "output_type": "stream",
     "text": [
      "error 1\n"
     ]
    }
   ],
   "source": [
    "s.error(d,m)"
   ]
  },
  {
   "cell_type": "markdown",
   "metadata": {},
   "source": [
    "# ADD"
   ]
  },
  {
   "cell_type": "code",
   "execution_count": 7,
   "metadata": {},
   "outputs": [
    {
     "name": "stdout",
     "output_type": "stream",
     "text": [
      "decription [1]\n",
      "saddc [1]\n",
      "saddm [0]\n",
      "error 1\n",
      "None\n"
     ]
    }
   ],
   "source": [
    "s.ADD(c,p,m,x_0)"
   ]
  },
  {
   "cell_type": "markdown",
   "metadata": {},
   "source": [
    "# mult"
   ]
  },
  {
   "cell_type": "code",
   "execution_count": 8,
   "metadata": {},
   "outputs": [
    {
     "name": "stdout",
     "output_type": "stream",
     "text": [
      "mul_c -2699\n",
      "decription [0]\n",
      "decription-mullc [0]\n",
      "mul_m [0]\n",
      "error 0\n",
      "None\n"
     ]
    }
   ],
   "source": [
    "s.mult(c,p,m,x_0,Y,γ)"
   ]
  }
 ],
 "metadata": {
  "kernelspec": {
   "display_name": "Python 3",
   "language": "python",
   "name": "python3"
  },
  "language_info": {
   "codemirror_mode": {
    "name": "ipython",
    "version": 3
   },
   "file_extension": ".py",
   "mimetype": "text/x-python",
   "name": "python",
   "nbconvert_exporter": "python",
   "pygments_lexer": "ipython3",
   "version": "3.7.6"
  }
 },
 "nbformat": 4,
 "nbformat_minor": 4
}
