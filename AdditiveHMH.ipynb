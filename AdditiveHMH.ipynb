{
 "cells": [
  {
   "cell_type": "code",
   "execution_count": 1,
   "metadata": {},
   "outputs": [],
   "source": [
    "import random\n",
    "import numpy as np\n",
    "import math"
   ]
  },
  {
   "cell_type": "markdown",
   "metadata": {},
   "source": [
    "# comput num to mod $2^k$ binarry "
   ]
  },
  {
   "cell_type": "code",
   "execution_count": 2,
   "metadata": {},
   "outputs": [],
   "source": [
    "def extractKBits(num,k):\n",
    "     num=int(num)\n",
    "  \n",
    "     # convert number into binary first \n",
    "    # binary = bin(num) \n",
    "     binary=format(num, \"b\")\n",
    "    # print(binary)\n",
    "  \n",
    "     # remove first two characters \n",
    "    # binary = binary[2:] \n",
    "     #print(binary)\n",
    "  \n",
    "     kBitSubStr = binary[0 : k] \n",
    "    # print(kBitSubStr)\n",
    "  \n",
    "     # convert extracted sub-string into decimal again \n",
    "     #print (int(kBitSubStr,2))\n",
    "     kBitSubStr=int(kBitSubStr,2)\n",
    "     return kBitSubStr"
   ]
  },
  {
   "cell_type": "markdown",
   "metadata": {},
   "source": [
    "# comput num to mod $2^k$ binarry  LIST"
   ]
  },
  {
   "cell_type": "code",
   "execution_count": 3,
   "metadata": {},
   "outputs": [],
   "source": [
    "def extractKBitsLIST(num,k): \n",
    "     L=[]\n",
    "     # convert number into binary first \n",
    "     for i in num:\n",
    "             i=int(i)\n",
    "     # convert number into binary first \n",
    "             binary=format(i, \"b\")\n",
    "             #binary = bin(i) \n",
    "             #print(binary)\n",
    "  \n",
    "     # remove first two characters \n",
    "           #  binary = binary[2:] \n",
    "           #  print(binary)\n",
    "  \n",
    "             kBitSubStr = binary[0 : k] \n",
    "           #  print(kBitSubStr)\n",
    "            # L.append(kBitSubStr)\n",
    "             kBitSubStr=int(kBitSubStr,2)\n",
    "     # convert extracted sub-string into decimal again \n",
    "             \n",
    "             L.append(kBitSubStr)\n",
    "     #print(L)\n",
    "     return L"
   ]
  },
  {
   "cell_type": "markdown",
   "metadata": {},
   "source": [
    "## $\\lfloor \\frac{a}{b} \\rceil$   Gives the nearest integer to $\\frac{a}{b}$"
   ]
  },
  {
   "cell_type": "code",
   "execution_count": 4,
   "metadata": {},
   "outputs": [],
   "source": [
    "def QuotientNear(a,b):\n",
    "    a=int(a)\n",
    "    b=int(b)\n",
    "    return ((a<<1)+b)//(b<<1)"
   ]
  },
  {
   "cell_type": "markdown",
   "metadata": {},
   "source": [
    "## $ a \\quad mod \\quad b = a - b \\lfloor \\frac{a}{b} \\rceil $  Computes a mod b with $a \\in [\\frac{-b}{2},\\frac{b}{2}]$"
   ]
  },
  {
   "cell_type": "code",
   "execution_count": 5,
   "metadata": {},
   "outputs": [],
   "source": [
    "def modNear(a,b):\n",
    "    return a-b*QuotientNear(a,b)"
   ]
  },
  {
   "cell_type": "markdown",
   "metadata": {},
   "source": [
    "## $ a \\quad mod \\quad b = a - b \\lfloor \\frac{a}{b} \\rceil $  Computes a mod b with $a \\in [\\frac{-b}{2},\\frac{b}{2}]$ a=list ,b=number"
   ]
  },
  {
   "cell_type": "code",
   "execution_count": 6,
   "metadata": {},
   "outputs": [],
   "source": [
    "def mNear(a,b):\n",
    "    e=[]\n",
    "    for i in a:\n",
    "        e.append(QuotientNear(i,b))\n",
    "       # print(e)\n",
    "    return np.subtract(a,np.multiply(b,e))"
   ]
  },
  {
   "cell_type": "markdown",
   "metadata": {},
   "source": [
    "#  parameters and generate key"
   ]
  },
  {
   "cell_type": "code",
   "execution_count": 7,
   "metadata": {},
   "outputs": [],
   "source": [
    "def keygeneration(λ):\n",
    "    # in the security parameter λ\n",
    "    λ = int(input(\"enter security parameter\"))\n",
    "    print(\"λ\",λ)\n",
    "    # L is the multiplicative depth\n",
    "    L = int(input(\"enter positive number\"))\n",
    "    print(\"L\",L)\n",
    "    # ρ is the bit-length of the first noise parameter.\n",
    "    ρ = λ\n",
    "    ρ = QuotientNear(ρ,1)\n",
    "    print(\"ρ\",ρ)\n",
    "    # η is the bit-length of the secret key\n",
    "    η =L*(math.log(λ))+ρ\n",
    "    η=QuotientNear(η,1)\n",
    "    print(\"η\",η)\n",
    "    # γ is the bit-length of an approximate GCD sample.\n",
    "    γ = (L**2)*λ*(math.log(λ))\n",
    "    γ=QuotientNear(γ,1)\n",
    "    print(\"γ\",γ)\n",
    "    # τ is the number of integers in the public key.\n",
    "    τ = γ + 2*λ +2\n",
    "    τ=QuotientNear(τ,1)\n",
    "    print(\"τ\",τ)\n",
    "    n=L*λ\n",
    "    n=QuotientNear(n,1)\n",
    "    print(\"n\",n)\n",
    "    σ=(L**2)*λ*(math.log(λ))\n",
    "    σ=QuotientNear(σ,1)\n",
    "    print(\"σ\",σ)\n",
    "    c=int(input(\"some constant c\"))\n",
    "    ηη = c*(L**2)*λ*(math.log(λ))\n",
    "    ηη=QuotientNear(ηη,1)\n",
    "    print(\"ηη\",ηη)\n",
    "    ρρ=ηη-(L*(math.log(λ)))\n",
    "    ρρ=QuotientNear(ρρ,1)\n",
    "    print(\"ρρ\",ρρ)\n",
    "    γγ=(2*ηη)+λ\n",
    "    γγ=QuotientNear(γγ,1)\n",
    "    print(\"γγ\",γγ)\n",
    "    ττ=γγ+2*λ+2\n",
    "    ττ=QuotientNear(ττ,1)\n",
    "    print(\"ττ\",ττ)\n",
    "    α = (math.sqrt(λ)/λ)*(2**λ)*σ\n",
    "    α = QuotientNear(α,1)\n",
    "    print(\"α\",α )\n",
    "    mean1=(2**(η-1))+2**η\n",
    "    mean= QuotientNear(mean1,2)\n",
    "    X = (2**λ)*(σ**2)\n",
    "    X=QuotientNear(X,1)\n",
    "    print(\"Random integer from 2^(η-1) to 2^(η)\")\n",
    "    p = random.gauss(mean, σ)\n",
    "    p= QuotientNear(p,1)\n",
    "    while extractKBits(p,1)==0:\n",
    "                           p = random.gauss(mean, σ)\n",
    "                           p= QuotientNear(p,1)\n",
    "    print(\"secret key: \", p)\n",
    "    q_0=QuotientNear(X,p)\n",
    "    print(\"q_0\",q_0)\n",
    "    x_1 = 0\n",
    "    while extractKBits(QuotientNear(x_1,p),1)==0:\n",
    "            q=random.randint(0, q_0)\n",
    "            r=random.gauss(0,α)\n",
    "            r=QuotientNear(r,1)\n",
    "            x_1=(p*q)+r\n",
    "    print(\"x_1\",x_1)\n",
    "    x_1x_1=QuotientNear(x_1,2)\n",
    "    print(\"x_1x_1\",x_1x_1)\n",
    "    x_0 = 0\n",
    "    while x_0<x_1 or x_0 == x_1:             \n",
    "            q = []\n",
    "            r= []\n",
    "            for i in range(0, τ-1):\n",
    "                           q.append(random.randint(0, q_0))\n",
    "                           rr=random.gauss(0,α)\n",
    "                           rr=QuotientNear(rr,1)\n",
    "                           r.append(rr)\n",
    "                           s = np.multiply(p,q) \n",
    "                           x = np.add(s,r)\n",
    "                           x =list(x)\n",
    "                           x_0=max(x)\n",
    "    x.append(x_1)\n",
    "    print(\"x_0\",x_0)\n",
    "    print(\"x\",x)\n",
    "    return λ,L,ρ,η,γ,τ,n,σ,c,ηη,ρρ,γγ,ττ,α,x_0,x_1,x,q_0,p,X,x_1x_1"
   ]
  },
  {
   "cell_type": "markdown",
   "metadata": {},
   "source": [
    "# generate list plain text"
   ]
  },
  {
   "cell_type": "code",
   "execution_count": 8,
   "metadata": {},
   "outputs": [],
   "source": [
    "def plaintext(nn):\n",
    "    n = int(input(\"Enter number of elements : \"))\n",
    "    m = np.random.randint(0,2,n)\n",
    "    print('plaintext' ,m)\n",
    "    return m"
   ]
  },
  {
   "cell_type": "markdown",
   "metadata": {},
   "source": [
    "# encryption"
   ]
  },
  {
   "cell_type": "code",
   "execution_count": 9,
   "metadata": {},
   "outputs": [],
   "source": [
    "def enc(m,x,x_0,x_1,τ,x_1x_1,):\n",
    "    m = list(m)\n",
    "# creating an empty list \n",
    "    S = [] \n",
    "# iterating till the range \n",
    "    for i in range(0, len(m)): \n",
    "         ele =  random.sample(list(x),random.randint(0,τ)) \n",
    "         ele = sum(ele)\n",
    "         S.append(ele)\n",
    "    cc=np.multiply(x_1x_1,m)\n",
    "    ccc=np.add(S,cc)\n",
    "    c=mNear(ccc,x_0)\n",
    "    c=list(c)\n",
    "    print(\"ciphertext\",c)\n",
    "    return c"
   ]
  },
  {
   "cell_type": "markdown",
   "metadata": {},
   "source": [
    "# decription"
   ]
  },
  {
   "cell_type": "code",
   "execution_count": 10,
   "metadata": {},
   "outputs": [],
   "source": [
    "def dec(c,p):\n",
    "    #ddd=np.multiplay(2,c)\n",
    "    d=[]\n",
    "    for i in c:\n",
    "        i=int(i)\n",
    "        i=i<<1\n",
    "        i=QuotientNear(i,p)\n",
    "        #i=extractKBits(i,1)\n",
    "        #i=modNear(i,2)\n",
    "        i=i%2\n",
    "        d.append(i)\n",
    "    print(\"decription\",d)\n",
    "    return d"
   ]
  },
  {
   "cell_type": "markdown",
   "metadata": {},
   "source": [
    "# error decription"
   ]
  },
  {
   "cell_type": "code",
   "execution_count": 11,
   "metadata": {},
   "outputs": [],
   "source": [
    "def error(d,m):\n",
    "    m=list(m)\n",
    "    xx = np.add(d,m)\n",
    "    xxx  = xx % 2\n",
    "    x  = list(xxx)\n",
    "    error=sum(x)\n",
    "    print('error', error)"
   ]
  },
  {
   "cell_type": "markdown",
   "metadata": {},
   "source": [
    "# ADD"
   ]
  },
  {
   "cell_type": "code",
   "execution_count": 12,
   "metadata": {},
   "outputs": [],
   "source": [
    "def ADD(c,p,m,x_0):\n",
    "    c=list(c)\n",
    "    m=list(m)\n",
    "    sum_addc=sum(c)\n",
    "    sum_addc=modNear(sum_addc,x_0)\n",
    "    sum_addc=([sum_addc])\n",
    "    dc=dec(sum_addc,p)\n",
    "    print(\"saddc\",dc)\n",
    "    sum_addm=sum(m)\n",
    "    sum_addm=sum_addm%2\n",
    "    sum_addm=([sum_addm])\n",
    "    print(\"saddm\",sum_addm)\n",
    "    print(error(dc,sum_addm))"
   ]
  }
 ],
 "metadata": {
  "kernelspec": {
   "display_name": "Python 3",
   "language": "python",
   "name": "python3"
  },
  "language_info": {
   "codemirror_mode": {
    "name": "ipython",
    "version": 3
   },
   "file_extension": ".py",
   "mimetype": "text/x-python",
   "name": "python",
   "nbconvert_exporter": "python",
   "pygments_lexer": "ipython3",
   "version": "3.7.6"
  }
 },
 "nbformat": 4,
 "nbformat_minor": 4
}
